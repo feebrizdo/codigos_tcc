{
  "nbformat": 4,
  "nbformat_minor": 0,
  "metadata": {
    "colab": {
      "provenance": []
    },
    "kernelspec": {
      "name": "python3",
      "display_name": "Python 3"
    },
    "language_info": {
      "name": "python"
    }
  },
  "cells": [
    {
      "cell_type": "code",
      "source": [
        "import pandas as pd\n",
        "import pvlib\n",
        "\n",
        "\n",
        "poa_data_2020, meta, inputs = pvlib.iotools.get_pvgis_hourly(latitude=50.941, longitude=6.959, start=2020, end=2020,\n",
        "                                               raddatabase='PVGIS-SARAH2', components=True, surface_tilt=45,\n",
        "                                               surface_azimuth=0, outputformat='json', usehorizon=True,\n",
        "                                               userhorizon=None, pvcalculation=False, peakpower=None,\n",
        "                                               pvtechchoice='crystSi', mountingplace='free', loss=0, trackingtype=0,\n",
        "                                               optimal_surface_tilt=False, optimalangles=False,\n",
        "                                               url='https://re.jrc.ec.europa.eu/api/v5_2/', map_variables=True,\n",
        "                                               timeout=30)\n",
        "\n",
        "poa_data_2020['poa_diffuse'] = poa_data_2020['poa_sky_diffuse'] + poa_data_2020['poa_ground_diffuse']\n",
        "poa_data_2020['poa_global'] = poa_data_2020['poa_diffuse'] + poa_data_2020['poa_direct']\n",
        "\n",
        "poa_data_2020.index = pd.to_datetime(poa_data_2020.index, format=\"%Y%m%d:%H%M\")\n",
        "print(poa_data_2020)\n",
        "\n",
        "poa_data_2020.to_csv(\"poa_data_2020_io.csv\")"
      ],
      "metadata": {
        "colab": {
          "base_uri": "https://localhost:8080/"
        },
        "id": "bPLGELc-Ji5U",
        "outputId": "e13a6909-d39b-4902-9986-229e31c57d4c"
      },
      "execution_count": null,
      "outputs": [
        {
          "output_type": "stream",
          "name": "stdout",
          "text": [
            "                           poa_direct  poa_sky_diffuse  poa_ground_diffuse  \\\n",
            "time                                                                         \n",
            "2020-01-01 00:10:00+00:00         0.0              0.0                 0.0   \n",
            "2020-01-01 01:10:00+00:00         0.0              0.0                 0.0   \n",
            "2020-01-01 02:10:00+00:00         0.0              0.0                 0.0   \n",
            "2020-01-01 03:10:00+00:00         0.0              0.0                 0.0   \n",
            "2020-01-01 04:10:00+00:00         0.0              0.0                 0.0   \n",
            "...                               ...              ...                 ...   \n",
            "2020-12-31 19:10:00+00:00         0.0              0.0                 0.0   \n",
            "2020-12-31 20:10:00+00:00         0.0              0.0                 0.0   \n",
            "2020-12-31 21:10:00+00:00         0.0              0.0                 0.0   \n",
            "2020-12-31 22:10:00+00:00         0.0              0.0                 0.0   \n",
            "2020-12-31 23:10:00+00:00         0.0              0.0                 0.0   \n",
            "\n",
            "                           solar_elevation  temp_air  wind_speed  Int  \\\n",
            "time                                                                    \n",
            "2020-01-01 00:10:00+00:00              0.0      1.82        3.10    0   \n",
            "2020-01-01 01:10:00+00:00              0.0      1.46        2.90    0   \n",
            "2020-01-01 02:10:00+00:00              0.0      1.05        2.97    0   \n",
            "2020-01-01 03:10:00+00:00              0.0      0.56        3.17    0   \n",
            "2020-01-01 04:10:00+00:00              0.0      0.20        3.10    0   \n",
            "...                                    ...       ...         ...  ...   \n",
            "2020-12-31 19:10:00+00:00              0.0      2.00        0.83    0   \n",
            "2020-12-31 20:10:00+00:00              0.0      2.09        0.90    0   \n",
            "2020-12-31 21:10:00+00:00              0.0      2.07        1.10    0   \n",
            "2020-12-31 22:10:00+00:00              0.0      1.82        1.24    0   \n",
            "2020-12-31 23:10:00+00:00              0.0      1.75        1.24    0   \n",
            "\n",
            "                           poa_diffuse  poa_global  \n",
            "time                                                \n",
            "2020-01-01 00:10:00+00:00          0.0         0.0  \n",
            "2020-01-01 01:10:00+00:00          0.0         0.0  \n",
            "2020-01-01 02:10:00+00:00          0.0         0.0  \n",
            "2020-01-01 03:10:00+00:00          0.0         0.0  \n",
            "2020-01-01 04:10:00+00:00          0.0         0.0  \n",
            "...                                ...         ...  \n",
            "2020-12-31 19:10:00+00:00          0.0         0.0  \n",
            "2020-12-31 20:10:00+00:00          0.0         0.0  \n",
            "2020-12-31 21:10:00+00:00          0.0         0.0  \n",
            "2020-12-31 22:10:00+00:00          0.0         0.0  \n",
            "2020-12-31 23:10:00+00:00          0.0         0.0  \n",
            "\n",
            "[8784 rows x 9 columns]\n"
          ]
        }
      ]
    }
  ]
}